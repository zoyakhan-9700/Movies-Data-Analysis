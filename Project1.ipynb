{
  "nbformat": 4,
  "nbformat_minor": 0,
  "metadata": {
    "colab": {
      "name": "Project1.ipynb",
      "provenance": [],
      "collapsed_sections": []
    },
    "kernelspec": {
      "name": "python3",
      "display_name": "Python 3"
    },
    "language_info": {
      "name": "python"
    }
  },
  "cells": [
    {
      "cell_type": "markdown",
      "metadata": {
        "id": "9qk24PEhO-P3"
      },
      "source": [
        "Importing libraries"
      ]
    },
    {
      "cell_type": "code",
      "metadata": {
        "id": "HgAouO_2OZzh"
      },
      "source": [
        "import pandas as pd\n",
        "import matplotlib.pyplot as plt\n",
        "import seaborn as sns       \n",
        "import numpy as np\n",
        "%matplotlib inline"
      ],
      "execution_count": 1,
      "outputs": []
    },
    {
      "cell_type": "markdown",
      "metadata": {
        "id": "9r3S1qPkO8YX"
      },
      "source": [
        "Investigating Data\n"
      ]
    },
    {
      "cell_type": "code",
      "metadata": {
        "id": "jymrvMQYPNJc"
      },
      "source": [
        "df = pd.read_csv('tmdb-movies.csv')\n",
        "df.head #first and last 5 rows of dataset\n",
        "df.info() # column names, entries, data type\n",
        "#df.tail(3) #returns last n rows\n",
        "#df.describe() #count, mean, std, min, max, percentile\n",
        "#df.nunique() #number of unique values in each column"
      ],
      "execution_count": null,
      "outputs": []
    },
    {
      "cell_type": "markdown",
      "metadata": {
        "id": "shKu4Wkl6Ch0"
      },
      "source": [
        "Data cleaning process by filling null values with mean and also drop duplicate data\n"
      ]
    },
    {
      "cell_type": "code",
      "metadata": {
        "id": "tHotTfLj6P0h"
      },
      "source": [
        "#df.drop(['id','homepage'], axis=1, inplace=True) #if inplace=False, it returns a copy, otherwise makes changes in same variable\n",
        "df.info()\n",
        "#df.fillna(df.mean(), inplace=True)"
      ],
      "execution_count": null,
      "outputs": []
    },
    {
      "cell_type": "markdown",
      "metadata": {
        "id": "ZJl2EAK99MgM"
      },
      "source": [
        "Visualize"
      ]
    },
    {
      "cell_type": "code",
      "metadata": {
        "id": "zgUp-UNa9OAY"
      },
      "source": [
        "df.hist(figsize=(18,18))"
      ],
      "execution_count": null,
      "outputs": []
    },
    {
      "cell_type": "markdown",
      "metadata": {
        "id": "UNOCjxd59rdX"
      },
      "source": [
        "Question 1:\n",
        "Does higher budget mean higher popularity?"
      ]
    },
    {
      "cell_type": "code",
      "metadata": {
        "id": "B0lLumQf9yRF"
      },
      "source": [
        "#budget = df['budget']\n",
        "#popularity = df['popularity']\n",
        "plt.scatter(budget, popularity)\n",
        "plt.xlabel(\"Budget\", fontsize = 15)\n",
        "plt.ylabel(\"Popularity\", fontsize = 15)"
      ],
      "execution_count": null,
      "outputs": []
    },
    {
      "cell_type": "code",
      "metadata": {
        "colab": {
          "base_uri": "https://localhost:8080/"
        },
        "id": "Jb0Lagta_gii",
        "outputId": "9ebb6c51-13d0-4a67-f218-cf3cbd4ad34d"
      },
      "source": [
        "budget_median = df['budget'].median()\n",
        "print(budget_median)\n",
        "above = df[df['budget']>budget_median].index.tolist()\n",
        "below = df[df['budget']<=budget_median].index.tolist()"
      ],
      "execution_count": 37,
      "outputs": [
        {
          "output_type": "stream",
          "name": "stdout",
          "text": [
            "0.0\n"
          ]
        }
      ]
    },
    {
      "cell_type": "code",
      "metadata": {
        "colab": {
          "base_uri": "https://localhost:8080/"
        },
        "id": "7JGURqu3EbJk",
        "outputId": "0466cc43-4781-4cc2-debb-b2948c1754dd"
      },
      "source": [
        "pop_above = df['popularity'][above].mean()\n",
        "pop_below = df['popularity'][below].mean()\n",
        "print(pop_above,pop_below)"
      ],
      "execution_count": 41,
      "outputs": [
        {
          "output_type": "stream",
          "name": "stdout",
          "text": [
            "0.9923233377176022 0.33249925000000013\n"
          ]
        }
      ]
    },
    {
      "cell_type": "markdown",
      "metadata": {
        "id": "5yPJAUmCM-4B"
      },
      "source": [
        "Bar chart"
      ]
    },
    {
      "cell_type": "code",
      "metadata": {
        "id": "mcQ6gP06HZA5"
      },
      "source": [
        "locations = [1,2]\n",
        "heights = [pop_below , pop_above]\n",
        "labels=['low','high']\n",
        "plt.bar(locations, heights, tick_label = labels)\n",
        "plt.title('Mean Popularity by all Budget')\n",
        "plt.xlabel('Budgets')\n",
        "plt.ylabel('Mean Popularity')"
      ],
      "execution_count": null,
      "outputs": []
    }
  ]
}