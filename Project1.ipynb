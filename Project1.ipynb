{
  "nbformat": 4,
  "nbformat_minor": 0,
  "metadata": {
    "colab": {
      "name": "Project1.ipynb",
      "provenance": [],
      "collapsed_sections": []
    },
    "kernelspec": {
      "name": "python3",
      "display_name": "Python 3"
    },
    "language_info": {
      "name": "python"
    }
  },
  "cells": [
    {
      "cell_type": "markdown",
      "metadata": {
        "id": "9qk24PEhO-P3"
      },
      "source": [
        "Importing libraries"
      ]
    },
    {
      "cell_type": "code",
      "metadata": {
        "id": "HgAouO_2OZzh",
        "colab": {
          "base_uri": "https://localhost:8080/"
        },
        "outputId": "4049df9c-c90b-43fe-8d0a-80eab4bda4df"
      },
      "source": [
        "import pandas as pd\n",
        "import matplotlib.pyplot as plt\n",
        "import seaborn as sns       \n",
        "import numpy as np\n",
        "!pip install impyute\n",
        "import impyute as impy\n",
        "%matplotlib inline"
      ],
      "execution_count": 85,
      "outputs": [
        {
          "output_type": "stream",
          "name": "stdout",
          "text": [
            "Requirement already satisfied: impyute in /usr/local/lib/python3.7/dist-packages (0.0.8)\n",
            "Requirement already satisfied: scipy in /usr/local/lib/python3.7/dist-packages (from impyute) (1.4.1)\n",
            "Requirement already satisfied: numpy in /usr/local/lib/python3.7/dist-packages (from impyute) (1.19.5)\n",
            "Requirement already satisfied: scikit-learn in /usr/local/lib/python3.7/dist-packages (from impyute) (0.22.2.post1)\n",
            "Requirement already satisfied: joblib>=0.11 in /usr/local/lib/python3.7/dist-packages (from scikit-learn->impyute) (1.0.1)\n"
          ]
        }
      ]
    },
    {
      "cell_type": "markdown",
      "metadata": {
        "id": "9r3S1qPkO8YX"
      },
      "source": [
        "Investigating Data\n"
      ]
    },
    {
      "cell_type": "code",
      "metadata": {
        "id": "jymrvMQYPNJc"
      },
      "source": [
        "df = pd.read_csv('tmdb-movies.csv')"
      ],
      "execution_count": 33,
      "outputs": []
    },
    {
      "cell_type": "code",
      "metadata": {
        "colab": {
          "base_uri": "https://localhost:8080/"
        },
        "id": "zzlY9QMjAa6D",
        "outputId": "b735298f-19a9-4585-ebdb-724f1492c333"
      },
      "source": [
        "df.info() # column names, entries, data type"
      ],
      "execution_count": 36,
      "outputs": [
        {
          "output_type": "stream",
          "name": "stdout",
          "text": [
            "<class 'pandas.core.frame.DataFrame'>\n",
            "RangeIndex: 10866 entries, 0 to 10865\n",
            "Data columns (total 21 columns):\n",
            " #   Column                Non-Null Count  Dtype  \n",
            "---  ------                --------------  -----  \n",
            " 0   id                    10866 non-null  int64  \n",
            " 1   imdb_id               10856 non-null  object \n",
            " 2   popularity            10866 non-null  float64\n",
            " 3   budget                10866 non-null  int64  \n",
            " 4   revenue               10866 non-null  int64  \n",
            " 5   original_title        10866 non-null  object \n",
            " 6   cast                  10790 non-null  object \n",
            " 7   homepage              2936 non-null   object \n",
            " 8   director              10822 non-null  object \n",
            " 9   tagline               8042 non-null   object \n",
            " 10  keywords              9373 non-null   object \n",
            " 11  overview              10862 non-null  object \n",
            " 12  runtime               10866 non-null  int64  \n",
            " 13  genres                10843 non-null  object \n",
            " 14  production_companies  9836 non-null   object \n",
            " 15  release_date          10866 non-null  object \n",
            " 16  vote_count            10866 non-null  int64  \n",
            " 17  vote_average          10866 non-null  float64\n",
            " 18  release_year          10866 non-null  int64  \n",
            " 19  budget_adj            10866 non-null  float64\n",
            " 20  revenue_adj           10866 non-null  float64\n",
            "dtypes: float64(4), int64(6), object(11)\n",
            "memory usage: 1.7+ MB\n"
          ]
        }
      ]
    },
    {
      "cell_type": "code",
      "metadata": {
        "colab": {
          "base_uri": "https://localhost:8080/"
        },
        "id": "nUGGpAsKAQrM",
        "outputId": "826a0853-d909-4bf0-83e6-c1102ab1d869"
      },
      "source": [
        "df.head #first and last 5 rows of dataset"
      ],
      "execution_count": 47,
      "outputs": [
        {
          "output_type": "execute_result",
          "data": {
            "text/plain": [
              "<bound method NDFrame.head of            id    imdb_id  popularity  ...  release_year    budget_adj   revenue_adj\n",
              "0      135397  tt0369610   32.985763  ...          2015  1.379999e+08  1.392446e+09\n",
              "1       76341  tt1392190   28.419936  ...          2015  1.379999e+08  3.481613e+08\n",
              "2      262500  tt2908446   13.112507  ...          2015  1.012000e+08  2.716190e+08\n",
              "3      140607  tt2488496   11.173104  ...          2015  1.839999e+08  1.902723e+09\n",
              "4      168259  tt2820852    9.335014  ...          2015  1.747999e+08  1.385749e+09\n",
              "...       ...        ...         ...  ...           ...           ...           ...\n",
              "10861      21  tt0060371    0.080598  ...          1966  0.000000e+00  0.000000e+00\n",
              "10862   20379  tt0060472    0.065543  ...          1966  0.000000e+00  0.000000e+00\n",
              "10863   39768  tt0060161    0.065141  ...          1966  0.000000e+00  0.000000e+00\n",
              "10864   21449  tt0061177    0.064317  ...          1966  0.000000e+00  0.000000e+00\n",
              "10865   22293  tt0060666    0.035919  ...          1966  1.276423e+05  0.000000e+00\n",
              "\n",
              "[10866 rows x 21 columns]>"
            ]
          },
          "metadata": {},
          "execution_count": 47
        }
      ]
    },
    {
      "cell_type": "code",
      "metadata": {
        "colab": {
          "base_uri": "https://localhost:8080/",
          "height": 394
        },
        "id": "a0Bt7FKMAUac",
        "outputId": "343f577b-c12e-4156-ad43-419c3327791f"
      },
      "source": [
        "df.tail(3) #returns last n rows"
      ],
      "execution_count": 48,
      "outputs": [
        {
          "output_type": "execute_result",
          "data": {
            "text/html": [
              "<div>\n",
              "<style scoped>\n",
              "    .dataframe tbody tr th:only-of-type {\n",
              "        vertical-align: middle;\n",
              "    }\n",
              "\n",
              "    .dataframe tbody tr th {\n",
              "        vertical-align: top;\n",
              "    }\n",
              "\n",
              "    .dataframe thead th {\n",
              "        text-align: right;\n",
              "    }\n",
              "</style>\n",
              "<table border=\"1\" class=\"dataframe\">\n",
              "  <thead>\n",
              "    <tr style=\"text-align: right;\">\n",
              "      <th></th>\n",
              "      <th>id</th>\n",
              "      <th>imdb_id</th>\n",
              "      <th>popularity</th>\n",
              "      <th>budget</th>\n",
              "      <th>revenue</th>\n",
              "      <th>original_title</th>\n",
              "      <th>cast</th>\n",
              "      <th>homepage</th>\n",
              "      <th>director</th>\n",
              "      <th>tagline</th>\n",
              "      <th>keywords</th>\n",
              "      <th>overview</th>\n",
              "      <th>runtime</th>\n",
              "      <th>genres</th>\n",
              "      <th>production_companies</th>\n",
              "      <th>release_date</th>\n",
              "      <th>vote_count</th>\n",
              "      <th>vote_average</th>\n",
              "      <th>release_year</th>\n",
              "      <th>budget_adj</th>\n",
              "      <th>revenue_adj</th>\n",
              "    </tr>\n",
              "  </thead>\n",
              "  <tbody>\n",
              "    <tr>\n",
              "      <th>10863</th>\n",
              "      <td>39768</td>\n",
              "      <td>tt0060161</td>\n",
              "      <td>0.065141</td>\n",
              "      <td>0</td>\n",
              "      <td>0</td>\n",
              "      <td>Beregis Avtomobilya</td>\n",
              "      <td>Innokentiy Smoktunovskiy|Oleg Efremov|Georgi Z...</td>\n",
              "      <td>NaN</td>\n",
              "      <td>Eldar Ryazanov</td>\n",
              "      <td>NaN</td>\n",
              "      <td>car|trolley|stealing car</td>\n",
              "      <td>An insurance agent who moonlights as a carthie...</td>\n",
              "      <td>94</td>\n",
              "      <td>Mystery|Comedy</td>\n",
              "      <td>Mosfilm</td>\n",
              "      <td>1/1/66</td>\n",
              "      <td>11</td>\n",
              "      <td>6.5</td>\n",
              "      <td>1966</td>\n",
              "      <td>0.000000</td>\n",
              "      <td>0.0</td>\n",
              "    </tr>\n",
              "    <tr>\n",
              "      <th>10864</th>\n",
              "      <td>21449</td>\n",
              "      <td>tt0061177</td>\n",
              "      <td>0.064317</td>\n",
              "      <td>0</td>\n",
              "      <td>0</td>\n",
              "      <td>What's Up, Tiger Lily?</td>\n",
              "      <td>Tatsuya Mihashi|Akiko Wakabayashi|Mie Hama|Joh...</td>\n",
              "      <td>NaN</td>\n",
              "      <td>Woody Allen</td>\n",
              "      <td>WOODY ALLEN STRIKES BACK!</td>\n",
              "      <td>spoof</td>\n",
              "      <td>In comic Woody Allen's film debut, he took the...</td>\n",
              "      <td>80</td>\n",
              "      <td>Action|Comedy</td>\n",
              "      <td>Benedict Pictures Corp.</td>\n",
              "      <td>11/2/66</td>\n",
              "      <td>22</td>\n",
              "      <td>5.4</td>\n",
              "      <td>1966</td>\n",
              "      <td>0.000000</td>\n",
              "      <td>0.0</td>\n",
              "    </tr>\n",
              "    <tr>\n",
              "      <th>10865</th>\n",
              "      <td>22293</td>\n",
              "      <td>tt0060666</td>\n",
              "      <td>0.035919</td>\n",
              "      <td>19000</td>\n",
              "      <td>0</td>\n",
              "      <td>Manos: The Hands of Fate</td>\n",
              "      <td>Harold P. Warren|Tom Neyman|John Reynolds|Dian...</td>\n",
              "      <td>NaN</td>\n",
              "      <td>Harold P. Warren</td>\n",
              "      <td>It's Shocking! It's Beyond Your Imagination!</td>\n",
              "      <td>fire|gun|drive|sacrifice|flashlight</td>\n",
              "      <td>A family gets lost on the road and stumbles up...</td>\n",
              "      <td>74</td>\n",
              "      <td>Horror</td>\n",
              "      <td>Norm-Iris</td>\n",
              "      <td>11/15/66</td>\n",
              "      <td>15</td>\n",
              "      <td>1.5</td>\n",
              "      <td>1966</td>\n",
              "      <td>127642.279154</td>\n",
              "      <td>0.0</td>\n",
              "    </tr>\n",
              "  </tbody>\n",
              "</table>\n",
              "</div>"
            ],
            "text/plain": [
              "          id    imdb_id  popularity  ...  release_year     budget_adj revenue_adj\n",
              "10863  39768  tt0060161    0.065141  ...          1966       0.000000         0.0\n",
              "10864  21449  tt0061177    0.064317  ...          1966       0.000000         0.0\n",
              "10865  22293  tt0060666    0.035919  ...          1966  127642.279154         0.0\n",
              "\n",
              "[3 rows x 21 columns]"
            ]
          },
          "metadata": {},
          "execution_count": 48
        }
      ]
    },
    {
      "cell_type": "code",
      "metadata": {
        "colab": {
          "base_uri": "https://localhost:8080/",
          "height": 294
        },
        "id": "lOPge8oBAds_",
        "outputId": "dcb4aee4-c46f-41c3-d632-7861d820aa98"
      },
      "source": [
        "df.describe() #count, mean, std, min, max, percentile"
      ],
      "execution_count": 46,
      "outputs": [
        {
          "output_type": "execute_result",
          "data": {
            "text/html": [
              "<div>\n",
              "<style scoped>\n",
              "    .dataframe tbody tr th:only-of-type {\n",
              "        vertical-align: middle;\n",
              "    }\n",
              "\n",
              "    .dataframe tbody tr th {\n",
              "        vertical-align: top;\n",
              "    }\n",
              "\n",
              "    .dataframe thead th {\n",
              "        text-align: right;\n",
              "    }\n",
              "</style>\n",
              "<table border=\"1\" class=\"dataframe\">\n",
              "  <thead>\n",
              "    <tr style=\"text-align: right;\">\n",
              "      <th></th>\n",
              "      <th>id</th>\n",
              "      <th>popularity</th>\n",
              "      <th>budget</th>\n",
              "      <th>revenue</th>\n",
              "      <th>runtime</th>\n",
              "      <th>vote_count</th>\n",
              "      <th>vote_average</th>\n",
              "      <th>release_year</th>\n",
              "      <th>budget_adj</th>\n",
              "      <th>revenue_adj</th>\n",
              "    </tr>\n",
              "  </thead>\n",
              "  <tbody>\n",
              "    <tr>\n",
              "      <th>count</th>\n",
              "      <td>10866.000000</td>\n",
              "      <td>10866.000000</td>\n",
              "      <td>1.086600e+04</td>\n",
              "      <td>1.086600e+04</td>\n",
              "      <td>10866.000000</td>\n",
              "      <td>10866.000000</td>\n",
              "      <td>10866.000000</td>\n",
              "      <td>10866.000000</td>\n",
              "      <td>1.086600e+04</td>\n",
              "      <td>1.086600e+04</td>\n",
              "    </tr>\n",
              "    <tr>\n",
              "      <th>mean</th>\n",
              "      <td>66064.177434</td>\n",
              "      <td>0.646441</td>\n",
              "      <td>1.462570e+07</td>\n",
              "      <td>3.982332e+07</td>\n",
              "      <td>102.070863</td>\n",
              "      <td>217.389748</td>\n",
              "      <td>5.974922</td>\n",
              "      <td>2001.322658</td>\n",
              "      <td>1.755104e+07</td>\n",
              "      <td>5.136436e+07</td>\n",
              "    </tr>\n",
              "    <tr>\n",
              "      <th>std</th>\n",
              "      <td>92130.136561</td>\n",
              "      <td>1.000185</td>\n",
              "      <td>3.091321e+07</td>\n",
              "      <td>1.170035e+08</td>\n",
              "      <td>31.381405</td>\n",
              "      <td>575.619058</td>\n",
              "      <td>0.935142</td>\n",
              "      <td>12.812941</td>\n",
              "      <td>3.430616e+07</td>\n",
              "      <td>1.446325e+08</td>\n",
              "    </tr>\n",
              "    <tr>\n",
              "      <th>min</th>\n",
              "      <td>5.000000</td>\n",
              "      <td>0.000065</td>\n",
              "      <td>0.000000e+00</td>\n",
              "      <td>0.000000e+00</td>\n",
              "      <td>0.000000</td>\n",
              "      <td>10.000000</td>\n",
              "      <td>1.500000</td>\n",
              "      <td>1960.000000</td>\n",
              "      <td>0.000000e+00</td>\n",
              "      <td>0.000000e+00</td>\n",
              "    </tr>\n",
              "    <tr>\n",
              "      <th>25%</th>\n",
              "      <td>10596.250000</td>\n",
              "      <td>0.207583</td>\n",
              "      <td>0.000000e+00</td>\n",
              "      <td>0.000000e+00</td>\n",
              "      <td>90.000000</td>\n",
              "      <td>17.000000</td>\n",
              "      <td>5.400000</td>\n",
              "      <td>1995.000000</td>\n",
              "      <td>0.000000e+00</td>\n",
              "      <td>0.000000e+00</td>\n",
              "    </tr>\n",
              "    <tr>\n",
              "      <th>50%</th>\n",
              "      <td>20669.000000</td>\n",
              "      <td>0.383856</td>\n",
              "      <td>0.000000e+00</td>\n",
              "      <td>0.000000e+00</td>\n",
              "      <td>99.000000</td>\n",
              "      <td>38.000000</td>\n",
              "      <td>6.000000</td>\n",
              "      <td>2006.000000</td>\n",
              "      <td>0.000000e+00</td>\n",
              "      <td>0.000000e+00</td>\n",
              "    </tr>\n",
              "    <tr>\n",
              "      <th>75%</th>\n",
              "      <td>75610.000000</td>\n",
              "      <td>0.713817</td>\n",
              "      <td>1.500000e+07</td>\n",
              "      <td>2.400000e+07</td>\n",
              "      <td>111.000000</td>\n",
              "      <td>145.750000</td>\n",
              "      <td>6.600000</td>\n",
              "      <td>2011.000000</td>\n",
              "      <td>2.085325e+07</td>\n",
              "      <td>3.369710e+07</td>\n",
              "    </tr>\n",
              "    <tr>\n",
              "      <th>max</th>\n",
              "      <td>417859.000000</td>\n",
              "      <td>32.985763</td>\n",
              "      <td>4.250000e+08</td>\n",
              "      <td>2.781506e+09</td>\n",
              "      <td>900.000000</td>\n",
              "      <td>9767.000000</td>\n",
              "      <td>9.200000</td>\n",
              "      <td>2015.000000</td>\n",
              "      <td>4.250000e+08</td>\n",
              "      <td>2.827124e+09</td>\n",
              "    </tr>\n",
              "  </tbody>\n",
              "</table>\n",
              "</div>"
            ],
            "text/plain": [
              "                  id    popularity  ...    budget_adj   revenue_adj\n",
              "count   10866.000000  10866.000000  ...  1.086600e+04  1.086600e+04\n",
              "mean    66064.177434      0.646441  ...  1.755104e+07  5.136436e+07\n",
              "std     92130.136561      1.000185  ...  3.430616e+07  1.446325e+08\n",
              "min         5.000000      0.000065  ...  0.000000e+00  0.000000e+00\n",
              "25%     10596.250000      0.207583  ...  0.000000e+00  0.000000e+00\n",
              "50%     20669.000000      0.383856  ...  0.000000e+00  0.000000e+00\n",
              "75%     75610.000000      0.713817  ...  2.085325e+07  3.369710e+07\n",
              "max    417859.000000     32.985763  ...  4.250000e+08  2.827124e+09\n",
              "\n",
              "[8 rows x 10 columns]"
            ]
          },
          "metadata": {},
          "execution_count": 46
        }
      ]
    },
    {
      "cell_type": "code",
      "metadata": {
        "colab": {
          "base_uri": "https://localhost:8080/"
        },
        "id": "Ng-N0zmnAXaX",
        "outputId": "ff62129a-cee4-4394-d90f-6cfe72d28e2f"
      },
      "source": [
        "df.nunique() #number of unique values in each column"
      ],
      "execution_count": 51,
      "outputs": [
        {
          "output_type": "execute_result",
          "data": {
            "text/plain": [
              "popularity              10814\n",
              "budget                    557\n",
              "revenue                  4702\n",
              "original_title          10571\n",
              "cast                    10719\n",
              "director                 5067\n",
              "tagline                  7997\n",
              "keywords                 8804\n",
              "runtime                   247\n",
              "genres                   2039\n",
              "production_companies     7445\n",
              "release_date             5909\n",
              "vote_count               1289\n",
              "vote_average               72\n",
              "release_year               56\n",
              "budget_adj               2614\n",
              "revenue_adj              4840\n",
              "dtype: int64"
            ]
          },
          "metadata": {},
          "execution_count": 51
        }
      ]
    },
    {
      "cell_type": "markdown",
      "metadata": {
        "id": "shKu4Wkl6Ch0"
      },
      "source": [
        "Data cleaning process by filling null values with mean and also drop duplicate data\n"
      ]
    },
    {
      "cell_type": "code",
      "metadata": {
        "id": "tHotTfLj6P0h",
        "colab": {
          "base_uri": "https://localhost:8080/"
        },
        "outputId": "b0a13740-b505-4f8d-9432-8ff20a8d0ce8"
      },
      "source": [
        "df.drop(['id','imdb_id','homepage','overview'], axis=1, inplace=True) #if inplace=False, it returns a copy, otherwise makes changes in same variable\n",
        "df.shape # shows number of rows and columns\n",
        "#df.info()\n"
      ],
      "execution_count": 55,
      "outputs": [
        {
          "output_type": "execute_result",
          "data": {
            "text/plain": [
              "(10866, 17)"
            ]
          },
          "metadata": {},
          "execution_count": 55
        }
      ]
    },
    {
      "cell_type": "code",
      "metadata": {
        "colab": {
          "base_uri": "https://localhost:8080/"
        },
        "id": "UUGFcoJzpgpM",
        "outputId": "b1293f32-f44c-4d05-f48c-d9fa7f232bbf"
      },
      "source": [
        "df.isnull().sum()  # sum of null values in each column"
      ],
      "execution_count": 52,
      "outputs": [
        {
          "output_type": "execute_result",
          "data": {
            "text/plain": [
              "popularity                 0\n",
              "budget                     0\n",
              "revenue                    0\n",
              "original_title             0\n",
              "cast                      76\n",
              "director                  44\n",
              "tagline                 2824\n",
              "keywords                1493\n",
              "runtime                    0\n",
              "genres                    23\n",
              "production_companies    1030\n",
              "release_date               0\n",
              "vote_count                 0\n",
              "vote_average               0\n",
              "release_year               0\n",
              "budget_adj                 0\n",
              "revenue_adj                0\n",
              "dtype: int64"
            ]
          },
          "metadata": {},
          "execution_count": 52
        }
      ]
    },
    {
      "cell_type": "code",
      "metadata": {
        "id": "16hKqRSeFYMK"
      },
      "source": [
        "#drop rows with at least 1 null value \n",
        "df = df.dropna()\n",
        "#drop rows with all values = null\n",
        "#dfnew = df.dropna(how='all') "
      ],
      "execution_count": 58,
      "outputs": []
    },
    {
      "cell_type": "code",
      "metadata": {
        "colab": {
          "base_uri": "https://localhost:8080/"
        },
        "id": "MiL6rqqhGqrt",
        "outputId": "50cc3fff-7378-45fb-e1b8-1dc2b0b375e3"
      },
      "source": [
        "df.shape "
      ],
      "execution_count": 61,
      "outputs": [
        {
          "output_type": "execute_result",
          "data": {
            "text/plain": [
              "(7032, 17)"
            ]
          },
          "metadata": {},
          "execution_count": 61
        }
      ]
    },
    {
      "cell_type": "code",
      "metadata": {
        "colab": {
          "base_uri": "https://localhost:8080/"
        },
        "id": "tWdWJEHCr1nK",
        "outputId": "670e5a2d-b9c9-4c47-9d5f-e30ab3e600e1"
      },
      "source": [
        "#count the number of zeroes per column\n",
        "df.isin(values=[0]).sum()"
      ],
      "execution_count": 87,
      "outputs": [
        {
          "output_type": "execute_result",
          "data": {
            "text/plain": [
              "popularity                 0\n",
              "budget                  2766\n",
              "revenue                 2855\n",
              "original_title             0\n",
              "cast                       0\n",
              "director                   0\n",
              "tagline                    0\n",
              "keywords                   0\n",
              "runtime                    3\n",
              "genres                     0\n",
              "production_companies       0\n",
              "release_date               0\n",
              "vote_count                 0\n",
              "vote_average               0\n",
              "release_year               0\n",
              "budget_adj              2766\n",
              "revenue_adj             2855\n",
              "dtype: int64"
            ]
          },
          "metadata": {},
          "execution_count": 87
        }
      ]
    },
    {
      "cell_type": "code",
      "metadata": {
        "colab": {
          "base_uri": "https://localhost:8080/"
        },
        "id": "QI6WkRCFE42G",
        "outputId": "3dc43f89-a97d-4eda-8240-2c1d113cdd34"
      },
      "source": [
        "#populate zero values with column mean\n",
        "df['budget']=df['budget'].replace(0,df['budget'].mean())\n",
        "df['revenue']=df['revenue'].replace(0,df['revenue'].mean())\n",
        "df['budget_adj']=df['budget_adj'].replace(0,df['budget_adj'].mean())\n",
        "df['revenue_adj']=df['revenue_adj'].replace(0,df['revenue_adj'].mean())"
      ],
      "execution_count": 88,
      "outputs": [
        {
          "output_type": "stream",
          "name": "stderr",
          "text": [
            "/usr/local/lib/python3.7/dist-packages/ipykernel_launcher.py:2: SettingWithCopyWarning: \n",
            "A value is trying to be set on a copy of a slice from a DataFrame.\n",
            "Try using .loc[row_indexer,col_indexer] = value instead\n",
            "\n",
            "See the caveats in the documentation: https://pandas.pydata.org/pandas-docs/stable/user_guide/indexing.html#returning-a-view-versus-a-copy\n",
            "  \n"
          ]
        }
      ]
    },
    {
      "cell_type": "markdown",
      "metadata": {
        "id": "ZJl2EAK99MgM"
      },
      "source": [
        "Visualize"
      ]
    },
    {
      "cell_type": "code",
      "metadata": {
        "id": "zgUp-UNa9OAY",
        "colab": {
          "base_uri": "https://localhost:8080/",
          "height": 1000
        },
        "outputId": "e68ef665-a417-4544-f47f-39d0ce1e0213"
      },
      "source": [
        "df.hist(figsize=(18,18))"
      ],
      "execution_count": 90,
      "outputs": [
        {
          "output_type": "execute_result",
          "data": {
            "text/plain": [
              "array([[<matplotlib.axes._subplots.AxesSubplot object at 0x7ff0d8080350>,\n",
              "        <matplotlib.axes._subplots.AxesSubplot object at 0x7ff0d80c7750>,\n",
              "        <matplotlib.axes._subplots.AxesSubplot object at 0x7ff0d7fc47d0>],\n",
              "       [<matplotlib.axes._subplots.AxesSubplot object at 0x7ff0d8017e90>,\n",
              "        <matplotlib.axes._subplots.AxesSubplot object at 0x7ff0d7f7d550>,\n",
              "        <matplotlib.axes._subplots.AxesSubplot object at 0x7ff0d7f29850>],\n",
              "       [<matplotlib.axes._subplots.AxesSubplot object at 0x7ff0d7f5eed0>,\n",
              "        <matplotlib.axes._subplots.AxesSubplot object at 0x7ff0d7ea0590>,\n",
              "        <matplotlib.axes._subplots.AxesSubplot object at 0x7ff0d7ea9a50>]],\n",
              "      dtype=object)"
            ]
          },
          "metadata": {},
          "execution_count": 90
        },
        {
          "output_type": "display_data",
          "data": {
            "image/png": "[encoded data removed]",
            "text/plain": [
              "<Figure size 1296x1296 with 9 Axes>"
            ]
          },
          "metadata": {
            "needs_background": "light"
          }
        }
      ]
    },
    {
      "cell_type": "markdown",
      "metadata": {
        "id": "UNOCjxd59rdX"
      },
      "source": [
        "Question 1:\n",
        "Does higher budget mean higher popularity?"
      ]
    },
    {
      "cell_type": "code",
      "metadata": {
        "id": "B0lLumQf9yRF",
        "colab": {
          "base_uri": "https://localhost:8080/",
          "height": 301
        },
        "outputId": "14e541d9-bb09-4f1b-e79f-1846e353dd09"
      },
      "source": [
        "budget = df['budget']\n",
        "nonzeroBudget = df[df['budget']>0].index.tolist()\n",
        "budget_nozeroes = df['budget'][nonzeroBudget]\n",
        "pop_nozeroes = df['popularity'][nonzeroBudget]\n",
        "popularity = df['popularity']\n",
        "plt.scatter(budget_nozeroes, pop_nozeroes)\n",
        "plt.xlabel(\"Budget\", fontsize = 15)\n",
        "plt.ylabel(\"Popularity\", fontsize = 15)"
      ],
      "execution_count": 11,
      "outputs": [
        {
          "output_type": "execute_result",
          "data": {
            "text/plain": [
              "Text(0, 0.5, 'Popularity')"
            ]
          },
          "metadata": {},
          "execution_count": 11
        },
        {
          "output_type": "display_data",
          "data": {
            "image/png": "[encoded data removed]",
            "text/plain": [
              "<Figure size 432x288 with 1 Axes>"
            ]
          },
          "metadata": {
            "needs_background": "light"
          }
        }
      ]
    },
    {
      "cell_type": "code",
      "metadata": {
        "colab": {
          "base_uri": "https://localhost:8080/"
        },
        "id": "Jb0Lagta_gii",
        "outputId": "bd253166-fea4-40bf-84eb-749708da23ef"
      },
      "source": [
        "budget_median = df['budget'].median()\n",
        "print(budget_median)\n",
        "budget_nozeroes_median = budget_nozeroes.median()\n",
        "print(budget_nozeroes_median)\n",
        "above = df[df['budget']>budget_median].index.tolist()\n",
        "above_nonzero = budget_nozeroes[budget_nozeroes>budget_nozeroes_median].index.tolist()\n",
        "below = df[df['budget']<=budget_median].index.tolist()\n",
        "below_nonzero =  budget_nozeroes[budget_nozeroes<=budget_nozeroes_median].index.tolist()"
      ],
      "execution_count": 14,
      "outputs": [
        {
          "output_type": "stream",
          "name": "stdout",
          "text": [
            "0.0\n",
            "20000000.0\n"
          ]
        }
      ]
    },
    {
      "cell_type": "code",
      "metadata": {
        "colab": {
          "base_uri": "https://localhost:8080/"
        },
        "id": "7JGURqu3EbJk",
        "outputId": "900d3c5d-7c2b-4ea6-9b4c-7200ffb56e12"
      },
      "source": [
        "pop_above = df['popularity'][above].mean()\n",
        "pop_below = df['popularity'][below].mean()\n",
        "print(pop_above,pop_below)\n",
        "pop_above_nonzero = pop_nozeroes[above_nonzero].mean()\n",
        "pop_below_nonzero =  pop_nozeroes[below_nonzero].mean()\n",
        "print(pop_above_nonzero, pop_below_nonzero)"
      ],
      "execution_count": 15,
      "outputs": [
        {
          "output_type": "stream",
          "name": "stdout",
          "text": [
            "1.1381994911830735 0.3398957946887488\n",
            "1.6498098228609628 0.6666227467652495\n"
          ]
        }
      ]
    },
    {
      "cell_type": "markdown",
      "metadata": {
        "id": "5yPJAUmCM-4B"
      },
      "source": [
        "Bar chart"
      ]
    },
    {
      "cell_type": "code",
      "metadata": {
        "id": "mcQ6gP06HZA5",
        "colab": {
          "base_uri": "https://localhost:8080/",
          "height": 312
        },
        "outputId": "dd8d2e9c-fdd8-49ec-b44e-e8766a0e06ed"
      },
      "source": [
        "locations = [1,2]\n",
        "heights = [pop_below_nonzero , pop_above_nonzero]\n",
        "labels=['low','high']\n",
        "plt.bar(locations, heights, tick_label = labels)\n",
        "plt.title('Mean Popularity by all Budget')\n",
        "plt.xlabel('Budgets')\n",
        "plt.ylabel('Mean Popularity')"
      ],
      "execution_count": 16,
      "outputs": [
        {
          "output_type": "execute_result",
          "data": {
            "text/plain": [
              "Text(0, 0.5, 'Mean Popularity')"
            ]
          },
          "metadata": {},
          "execution_count": 16
        },
        {
          "output_type": "display_data",
          "data": {
            "image/png": "[encoded data removed]",
            "text/plain": [
              "<Figure size 432x288 with 1 Axes>"
            ]
          },
          "metadata": {
            "needs_background": "light"
          }
        }
      ]
    },
    {
      "cell_type": "markdown",
      "metadata": {
        "id": "IjIfftgkn4Cv"
      },
      "source": [
        "Question 2: Does runtime affect vote count and popularity?"
      ]
    },
    {
      "cell_type": "code",
      "metadata": {
        "colab": {
          "base_uri": "https://localhost:8080/",
          "height": 301
        },
        "id": "fxcScZ4qQfRs",
        "outputId": "6786b0c7-e5b6-47ab-ca46-335b5192444d"
      },
      "source": [
        "runtime = df['runtime']\n",
        "popularity = df['popularity']\n",
        "vote = df['vote_count']\n",
        "plt.scatter(runtime, popularity)\n",
        "plt.xlabel(\"Runtime\", fontsize = 15)\n",
        "plt.ylabel(\"Popularity\", fontsize = 15)"
      ],
      "execution_count": 93,
      "outputs": [
        {
          "output_type": "execute_result",
          "data": {
            "text/plain": [
              "Text(0, 0.5, 'Popularity')"
            ]
          },
          "metadata": {},
          "execution_count": 93
        },
        {
          "output_type": "display_data",
          "data": {
            "image/png": "[encoded data removed]",
            "text/plain": [
              "<Figure size 432x288 with 1 Axes>"
            ]
          },
          "metadata": {
            "needs_background": "light"
          }
        }
      ]
    },
    {
      "cell_type": "code",
      "metadata": {
        "colab": {
          "base_uri": "https://localhost:8080/",
          "height": 301
        },
        "id": "dAyZ0ADnRE4Z",
        "outputId": "20b42ee0-93e6-4c15-d27c-9e3405c6f0a3"
      },
      "source": [
        "plt.scatter(runtime,vote)\n",
        "plt.xlabel(\"Runtime\", fontsize = 15)\n",
        "plt.ylabel(\"Vote Count\", fontsize = 15)"
      ],
      "execution_count": 94,
      "outputs": [
        {
          "output_type": "execute_result",
          "data": {
            "text/plain": [
              "Text(0, 0.5, 'Vote Count')"
            ]
          },
          "metadata": {},
          "execution_count": 94
        },
        {
          "output_type": "display_data",
          "data": {
            "image/png": "[encoded data removed]",
            "text/plain": [
              "<Figure size 432x288 with 1 Axes>"
            ]
          },
          "metadata": {
            "needs_background": "light"
          }
        }
      ]
    },
    {
      "cell_type": "code",
      "metadata": {
        "id": "vGkk4bCSRyNx"
      },
      "source": [
        "conditions = [(df['runtime'] <= 50), (df['runtime'] > 50) & (df['runtime'] <= 100), (df['runtime']>100) & (df['runtime'] <=150), \n",
        "              (df['runtime']>150) & (df['runtime']<=200), (df['runtime']>200) & (df['runtime']<=250), (df['runtime']>250)]\n",
        "              "
      ],
      "execution_count": 98,
      "outputs": []
    },
    {
      "cell_type": "code",
      "metadata": {
        "id": "ImUif_ZbVBF2"
      },
      "source": [
        "values = ['upto 50', '50-100','100-150','150-200','200-250','over 250']"
      ],
      "execution_count": 99,
      "outputs": []
    },
    {
      "cell_type": "code",
      "metadata": {
        "colab": {
          "base_uri": "https://localhost:8080/"
        },
        "id": "UQpBSWz2Vu_G",
        "outputId": "6b779226-e711-4dfe-b664-69a510bc3281"
      },
      "source": [
        "df['runtime_buckets'] = np.select(conditions,values )"
      ],
      "execution_count": 101,
      "outputs": [
        {
          "output_type": "stream",
          "name": "stderr",
          "text": [
            "/usr/local/lib/python3.7/dist-packages/ipykernel_launcher.py:1: SettingWithCopyWarning: \n",
            "A value is trying to be set on a copy of a slice from a DataFrame.\n",
            "Try using .loc[row_indexer,col_indexer] = value instead\n",
            "\n",
            "See the caveats in the documentation: https://pandas.pydata.org/pandas-docs/stable/user_guide/indexing.html#returning-a-view-versus-a-copy\n",
            "  \"\"\"Entry point for launching an IPython kernel.\n"
          ]
        }
      ]
    },
    {
      "cell_type": "code",
      "metadata": {
        "colab": {
          "base_uri": "https://localhost:8080/"
        },
        "id": "_WbJb-L_YDsN",
        "outputId": "e584ee9a-ec84-4cf0-d10c-341cdf52b8e3"
      },
      "source": [
        "voteMeans = df['vote_count'].groupby(df['runtime_buckets']).mean()\n",
        "print(voteMeans)"
      ],
      "execution_count": 110,
      "outputs": [
        {
          "output_type": "stream",
          "name": "stdout",
          "text": [
            "runtime_buckets\n",
            "100-150      417.292770\n",
            "150-200     1056.358382\n",
            "200-250      475.400000\n",
            "50-100       175.640561\n",
            "over 250      75.636364\n",
            "upto 50       90.400000\n",
            "Name: vote_count, dtype: float64\n"
          ]
        }
      ]
    },
    {
      "cell_type": "code",
      "metadata": {
        "colab": {
          "base_uri": "https://localhost:8080/"
        },
        "id": "SbTRyhGUbB4G",
        "outputId": "bf750e72-5993-4254-b3ae-be584f4f6753"
      },
      "source": [
        "popMeans = df['popularity'].groupby(df['runtime_buckets']).mean()\n",
        "print(popMeans)"
      ],
      "execution_count": 111,
      "outputs": [
        {
          "output_type": "stream",
          "name": "stdout",
          "text": [
            "runtime_buckets\n",
            "100-150     1.002512\n",
            "150-200     1.797530\n",
            "200-250     0.909495\n",
            "50-100      0.616865\n",
            "over 250    0.423883\n",
            "upto 50     0.463000\n",
            "Name: popularity, dtype: float64\n"
          ]
        }
      ]
    },
    {
      "cell_type": "code",
      "metadata": {
        "colab": {
          "base_uri": "https://localhost:8080/",
          "height": 312
        },
        "id": "44yROlgVWL0N",
        "outputId": "24525272-752c-49e0-88dc-5aac8d824965"
      },
      "source": [
        "locations = [1,2,3,4,5,6]\n",
        "heights = popMeans\n",
        "labels=['100-150','150-200','200-250','50-100','over 250','upto 50']\n",
        "plt.bar(locations, heights, tick_label = labels)\n",
        "plt.title('Average Popularity by Runtimes')\n",
        "plt.xlabel('Runtime')\n",
        "plt.ylabel('Average Popularity')"
      ],
      "execution_count": 155,
      "outputs": [
        {
          "output_type": "execute_result",
          "data": {
            "text/plain": [
              "Text(0, 0.5, 'Average Popularity')"
            ]
          },
          "metadata": {},
          "execution_count": 155
        },
        {
          "output_type": "display_data",
          "data": {
            "image/png": "[encoded data removed]",
            "text/plain": [
              "<Figure size 432x288 with 1 Axes>"
            ]
          },
          "metadata": {
            "needs_background": "light"
          }
        }
      ]
    },
    {
      "cell_type": "code",
      "metadata": {
        "colab": {
          "base_uri": "https://localhost:8080/",
          "height": 312
        },
        "id": "j3Dp11qqbnZp",
        "outputId": "99624769-85e9-4669-9e94-20a1b0de9635"
      },
      "source": [
        "locations = [1,2,3,4,5,6]\n",
        "heights = voteMeans\n",
        "labels=['100-150','150-200','200-250','50-100','over 250','upto 50']\n",
        "plt.bar(locations, heights, tick_label = labels)\n",
        "plt.title('Average Vote Count by Runtimes')\n",
        "plt.xlabel('Runtime')\n",
        "plt.ylabel('Average Vote Count')"
      ],
      "execution_count": 156,
      "outputs": [
        {
          "output_type": "execute_result",
          "data": {
            "text/plain": [
              "Text(0, 0.5, 'Average Vote Count')"
            ]
          },
          "metadata": {},
          "execution_count": 156
        },
        {
          "output_type": "display_data",
          "data": {
            "image/png": "[encoded data removed]",
            "text/plain": [
              "<Figure size 432x288 with 1 Axes>"
            ]
          },
          "metadata": {
            "needs_background": "light"
          }
        }
      ]
    },
    {
      "cell_type": "markdown",
      "metadata": {
        "id": "laFVeuJEb32k"
      },
      "source": [
        "Popularity and vote count peak at runtime between 100-150 minutes, and fall as runtime goes beyond it"
      ]
    },
    {
      "cell_type": "markdown",
      "metadata": {
        "id": "Y3lqYWD0cTON"
      },
      "source": [
        "Question 3: Does higher popularity mean higher profits?"
      ]
    },
    {
      "cell_type": "code",
      "metadata": {
        "colab": {
          "base_uri": "https://localhost:8080/"
        },
        "id": "VkgBB_7ycb-k",
        "outputId": "aba840bd-642e-4a64-c3f4-5637bf097caf"
      },
      "source": [
        "df['profits'] = df['revenue'] - df['budget']"
      ],
      "execution_count": 116,
      "outputs": [
        {
          "output_type": "stream",
          "name": "stderr",
          "text": [
            "/usr/local/lib/python3.7/dist-packages/ipykernel_launcher.py:1: SettingWithCopyWarning: \n",
            "A value is trying to be set on a copy of a slice from a DataFrame.\n",
            "Try using .loc[row_indexer,col_indexer] = value instead\n",
            "\n",
            "See the caveats in the documentation: https://pandas.pydata.org/pandas-docs/stable/user_guide/indexing.html#returning-a-view-versus-a-copy\n",
            "  \"\"\"Entry point for launching an IPython kernel.\n"
          ]
        }
      ]
    },
    {
      "cell_type": "code",
      "metadata": {
        "colab": {
          "base_uri": "https://localhost:8080/",
          "height": 292
        },
        "id": "gtl-i0JZdFqD",
        "outputId": "691b9315-320c-41c1-ad4c-cac4dfe62bb8"
      },
      "source": [
        "plt.scatter(x=df['popularity'],y=df['profits'])"
      ],
      "execution_count": 119,
      "outputs": [
        {
          "output_type": "execute_result",
          "data": {
            "text/plain": [
              "<matplotlib.collections.PathCollection at 0x7ff0d1f84ad0>"
            ]
          },
          "metadata": {},
          "execution_count": 119
        },
        {
          "output_type": "display_data",
          "data": {
            "image/png": "[encoded data removed]",
            "text/plain": [
              "<Figure size 432x288 with 1 Axes>"
            ]
          },
          "metadata": {
            "needs_background": "light"
          }
        }
      ]
    },
    {
      "cell_type": "code",
      "metadata": {
        "colab": {
          "base_uri": "https://localhost:8080/"
        },
        "id": "rsdco3cFeIG7",
        "outputId": "efe36809-727f-44de-948c-df10917ac81f"
      },
      "source": [
        "df['popularity'].describe()"
      ],
      "execution_count": 130,
      "outputs": [
        {
          "output_type": "execute_result",
          "data": {
            "text/plain": [
              "count    7032.000000\n",
              "mean        0.829463\n",
              "std         1.180185\n",
              "min         0.000188\n",
              "25%         0.278573\n",
              "50%         0.506241\n",
              "75%         0.956217\n",
              "max        32.985763\n",
              "Name: popularity, dtype: float64"
            ]
          },
          "metadata": {},
          "execution_count": 130
        }
      ]
    },
    {
      "cell_type": "code",
      "metadata": {
        "colab": {
          "base_uri": "https://localhost:8080/",
          "height": 314
        },
        "id": "HPE9vR_HfUgg",
        "outputId": "f177cc2e-7a89-46fc-9589-a06fd6c8cce5"
      },
      "source": [
        "df.hist(column = 'popularity',bins = 50)"
      ],
      "execution_count": 131,
      "outputs": [
        {
          "output_type": "execute_result",
          "data": {
            "text/plain": [
              "array([[<matplotlib.axes._subplots.AxesSubplot object at 0x7ff0d186f6d0>]],\n",
              "      dtype=object)"
            ]
          },
          "metadata": {},
          "execution_count": 131
        },
        {
          "output_type": "display_data",
          "data": {
            "image/png": "[encoded data removed]",
            "text/plain": [
              "<Figure size 432x288 with 1 Axes>"
            ]
          },
          "metadata": {
            "needs_background": "light"
          }
        }
      ]
    },
    {
      "cell_type": "code",
      "metadata": {
        "id": "ue8VY-8Fd1iS"
      },
      "source": [
        "popularityConditions = [(df['popularity'] <= 1.5), (df['popularity'] > 1.5) & (df['popularity'] <= 3), (df['popularity']>3)]"
      ],
      "execution_count": 149,
      "outputs": []
    },
    {
      "cell_type": "code",
      "metadata": {
        "id": "nwoGgCltiW9P"
      },
      "source": [
        "popularityValues = ['Unpopular','Fairly Popular','Popular']"
      ],
      "execution_count": 150,
      "outputs": []
    },
    {
      "cell_type": "code",
      "metadata": {
        "colab": {
          "base_uri": "https://localhost:8080/"
        },
        "id": "wH9UPHiDipsn",
        "outputId": "494f00cb-0e8e-47f4-fdd0-74d9d07b90da"
      },
      "source": [
        "df['popularity_buckets'] = np.select(popularityConditions,popularityValues )"
      ],
      "execution_count": 151,
      "outputs": [
        {
          "output_type": "stream",
          "name": "stderr",
          "text": [
            "/usr/local/lib/python3.7/dist-packages/ipykernel_launcher.py:1: SettingWithCopyWarning: \n",
            "A value is trying to be set on a copy of a slice from a DataFrame.\n",
            "Try using .loc[row_indexer,col_indexer] = value instead\n",
            "\n",
            "See the caveats in the documentation: https://pandas.pydata.org/pandas-docs/stable/user_guide/indexing.html#returning-a-view-versus-a-copy\n",
            "  \"\"\"Entry point for launching an IPython kernel.\n"
          ]
        }
      ]
    },
    {
      "cell_type": "code",
      "metadata": {
        "colab": {
          "base_uri": "https://localhost:8080/"
        },
        "id": "aoRkATlJiw2n",
        "outputId": "48c917e7-7d4f-4cda-c737-51f1744d7ca4"
      },
      "source": [
        "profitMeans = df['profits'].groupby(df['popularity_buckets']).mean()\n",
        "print(profitMeans)"
      ],
      "execution_count": 152,
      "outputs": [
        {
          "output_type": "stream",
          "name": "stdout",
          "text": [
            "popularity_buckets\n",
            "Fairly Popular    1.384636e+08\n",
            "Popular           3.571874e+08\n",
            "Unpopular         3.338213e+07\n",
            "Name: profits, dtype: float64\n"
          ]
        }
      ]
    },
    {
      "cell_type": "code",
      "metadata": {
        "colab": {
          "base_uri": "https://localhost:8080/",
          "height": 312
        },
        "id": "-fhtZNMGjLiH",
        "outputId": "3a62858d-8ac5-4ff9-8530-a270a5102d5e"
      },
      "source": [
        "locations = [1,2,3]\n",
        "heights = profitMeans\n",
        "labels=['Fairly Popular','Popular','Unpopular']\n",
        "plt.bar(locations, heights, tick_label = labels)\n",
        "plt.title('Average Profits by Popularity')\n",
        "plt.xlabel('Popularity')\n",
        "plt.ylabel('Average Profits')"
      ],
      "execution_count": 153,
      "outputs": [
        {
          "output_type": "execute_result",
          "data": {
            "text/plain": [
              "Text(0, 0.5, 'Average Profits')"
            ]
          },
          "metadata": {},
          "execution_count": 153
        },
        {
          "output_type": "display_data",
          "data": {
            "image/png": "[encoded data removed]",
            "text/plain": [
              "<Figure size 432x288 with 1 Axes>"
            ]
          },
          "metadata": {
            "needs_background": "light"
          }
        }
      ]
    },
    {
      "cell_type": "markdown",
      "metadata": {
        "id": "uAeLwJvHl9wT"
      },
      "source": [
        "Greater popularity indicates greater profit on average"
      ]
    },
    {
      "cell_type": "markdown",
      "metadata": {
        "id": "Q8OW7O1EmF0n"
      },
      "source": [
        "Question 4: What are the Features Associate with Top 10 Revenue Movies ?"
      ]
    },
    {
      "cell_type": "code",
      "metadata": {
        "id": "ZLw705ogmOCU"
      },
      "source": [
        "sortedDF = df.sort_values(by = 'revenue')"
      ],
      "execution_count": 157,
      "outputs": []
    },
    {
      "cell_type": "code",
      "metadata": {
        "colab": {
          "base_uri": "https://localhost:8080/"
        },
        "id": "SCQDkycqnJty",
        "outputId": "5013682a-31a5-4f7d-f182-8bb035c4b582"
      },
      "source": [
        "sortedDF = sortedDF.head(10)"
      ],
      "execution_count": 168,
      "outputs": [
        {
          "output_type": "stream",
          "name": "stdout",
          "text": [
            "       popularity        budget  ...       profits popularity_buckets\n",
            "8142     0.552091  6.000000e+06  ... -5.999998e+06          Unpopular\n",
            "10607    0.621476  2.084426e+07  ... -2.084425e+07          Unpopular\n",
            "1380     0.097126  2.084426e+07  ... -2.084425e+07          Unpopular\n",
            "8226     0.183034  6.400000e+06  ... -6.399994e+06          Unpopular\n",
            "8328     0.291459  2.084426e+07  ... -2.084425e+07          Unpopular\n",
            "2252     0.559371  2.084426e+07  ... -2.084425e+07          Unpopular\n",
            "8235     0.105894  6.000000e+00  ...  5.000000e+00          Unpopular\n",
            "7158     0.420568  2.300000e+07  ... -2.299999e+07          Unpopular\n",
            "9390     0.313071  2.084426e+07  ... -2.084424e+07          Unpopular\n",
            "10294    0.504169  3.000000e+06  ... -2.999985e+06          Unpopular\n",
            "\n",
            "[10 rows x 20 columns]\n"
          ]
        }
      ]
    },
    {
      "cell_type": "code",
      "metadata": {
        "colab": {
          "base_uri": "https://localhost:8080/",
          "height": 1000
        },
        "id": "jcKk-zOyoB5h",
        "outputId": "bbd7a421-f0e7-447e-824a-3943d878e363"
      },
      "source": [
        "sortedDF.hist(figsize=(18,18))"
      ],
      "execution_count": 162,
      "outputs": [
        {
          "output_type": "execute_result",
          "data": {
            "text/plain": [
              "array([[<matplotlib.axes._subplots.AxesSubplot object at 0x7ff0d0f792d0>,\n",
              "        <matplotlib.axes._subplots.AxesSubplot object at 0x7ff0d0fd7e10>,\n",
              "        <matplotlib.axes._subplots.AxesSubplot object at 0x7ff0d0f58990>],\n",
              "       [<matplotlib.axes._subplots.AxesSubplot object at 0x7ff0d0f08f10>,\n",
              "        <matplotlib.axes._subplots.AxesSubplot object at 0x7ff0d0ec94d0>,\n",
              "        <matplotlib.axes._subplots.AxesSubplot object at 0x7ff0d0e80a50>],\n",
              "       [<matplotlib.axes._subplots.AxesSubplot object at 0x7ff0d0e40050>,\n",
              "        <matplotlib.axes._subplots.AxesSubplot object at 0x7ff0d0df5590>,\n",
              "        <matplotlib.axes._subplots.AxesSubplot object at 0x7ff0d0dffa50>],\n",
              "       [<matplotlib.axes._subplots.AxesSubplot object at 0x7ff0d0dc1110>,\n",
              "        <matplotlib.axes._subplots.AxesSubplot object at 0x7ff0d0d23650>,\n",
              "        <matplotlib.axes._subplots.AxesSubplot object at 0x7ff0d0d56bd0>]],\n",
              "      dtype=object)"
            ]
          },
          "metadata": {},
          "execution_count": 162
        },
        {
          "output_type": "display_data",
          "data": {
            "image/png": "[encoded data removed]",
            "text/plain": [
              "<Figure size 1296x1296 with 12 Axes>"
            ]
          },
          "metadata": {
            "needs_background": "light"
          }
        }
      ]
    },
    {
      "cell_type": "code",
      "metadata": {
        "colab": {
          "base_uri": "https://localhost:8080/"
        },
        "id": "7TRW1WbjonSn",
        "outputId": "b5020308-e7b0-4a14-d720-64b559463ada"
      },
      "source": [
        "sortedDF.mean()"
      ],
      "execution_count": 163,
      "outputs": [
        {
          "output_type": "stream",
          "name": "stderr",
          "text": [
            "/usr/local/lib/python3.7/dist-packages/ipykernel_launcher.py:1: FutureWarning: DataFrame.mean and DataFrame.median with numeric_only=None will include datetime64 and datetime64tz columns in a future version.\n",
            "  \"\"\"Entry point for launching an IPython kernel.\n"
          ]
        },
        {
          "output_type": "execute_result",
          "data": {
            "text/plain": [
              "popularity      3.648259e-01\n",
              "budget          1.426213e+07\n",
              "revenue         8.400000e+00\n",
              "runtime         9.670000e+01\n",
              "vote_count      6.100000e+01\n",
              "vote_average    5.470000e+00\n",
              "release_year    1.992500e+03\n",
              "budget_adj      1.738721e+07\n",
              "revenue_adj     1.340110e+01\n",
              "profits        -1.426212e+07\n",
              "dtype: float64"
            ]
          },
          "metadata": {},
          "execution_count": 163
        }
      ]
    },
    {
      "cell_type": "markdown",
      "metadata": {
        "id": "ATG4jV1jqVfa"
      },
      "source": [
        "The top-10 revenue grossing movies are Soylent Green, The Sentinel, Never Talk to Strangers, Gladiator, Elektra Luxx, Tales from the Hood,Chasing Liberty, Drop Dead Fred, and Jason Goes to Hell: The Final Friday.\n"
      ]
    }
  ]
}